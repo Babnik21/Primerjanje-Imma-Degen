{
 "cells": [
  {
   "cell_type": "markdown",
   "metadata": {},
   "source": [
    "# Analiza Visitorjev"
   ]
  },
  {
   "cell_type": "code",
   "execution_count": 38,
   "metadata": {},
   "outputs": [],
   "source": [
    "import pandas as pd\n",
    "import os.path\n",
    "import re\n",
    "from statistics import mean\n",
    "import numpy as np\n",
    "import matplotlib.pyplot as plt\n",
    "\n",
    "\n",
    "\n",
    "# pd.options.display.max_rows = 10\n",
    "#%matplotlib notebook\n",
    "%matplotlib inline\n",
    "\n",
    "# naložimo razpredelnico, s katero bomo delali\n",
    "pot_do_Visitorjev = os.path.join(\"immadegen.csv\")\n",
    "visitorji = pd.read_csv(pot_do_Visitorjev)\n",
    "visitorji = visitorji.set_index('Name')"
   ]
  },
  {
   "cell_type": "markdown",
   "metadata": {},
   "source": [
    "### Obdelava podatkov"
   ]
  },
  {
   "cell_type": "code",
   "execution_count": 39,
   "metadata": {
    "scrolled": true
   },
   "outputs": [
    {
     "data": {
      "text/html": "<div>\n<style scoped>\n    .dataframe tbody tr th:only-of-type {\n        vertical-align: middle;\n    }\n\n    .dataframe tbody tr th {\n        vertical-align: top;\n    }\n\n    .dataframe thead th {\n        text-align: right;\n    }\n</style>\n<table border=\"1\" class=\"dataframe\">\n  <thead>\n    <tr style=\"text-align: right;\">\n      <th></th>\n      <th>Background</th>\n      <th>Clothing</th>\n      <th>Expression</th>\n      <th>Eyes</th>\n      <th>Eyewear</th>\n      <th>Head</th>\n      <th>Mouth</th>\n      <th>Neck</th>\n      <th>Nose</th>\n      <th>Skin</th>\n      <th>Type</th>\n      <th>Price</th>\n    </tr>\n    <tr>\n      <th>Name</th>\n      <th></th>\n      <th></th>\n      <th></th>\n      <th></th>\n      <th></th>\n      <th></th>\n      <th></th>\n      <th></th>\n      <th></th>\n      <th></th>\n      <th></th>\n      <th></th>\n    </tr>\n  </thead>\n  <tbody>\n    <tr>\n      <th>Visitor1</th>\n      <td>Pink</td>\n      <td>NaN</td>\n      <td>Delusional</td>\n      <td>Visitor</td>\n      <td>NaN</td>\n      <td>Barbarian</td>\n      <td>Face Mask</td>\n      <td>Gold Necklace</td>\n      <td>NaN</td>\n      <td>Green</td>\n      <td>Not for sale</td>\n      <td>NaN</td>\n    </tr>\n    <tr>\n      <th>Visitor2</th>\n      <td>Pink</td>\n      <td>Black T-shirt</td>\n      <td>Surprised</td>\n      <td>Twirl</td>\n      <td>Eyepatch</td>\n      <td>NaN</td>\n      <td>NaN</td>\n      <td>NaN</td>\n      <td>NaN</td>\n      <td>Blue</td>\n      <td>Buy</td>\n      <td>5.000</td>\n    </tr>\n    <tr>\n      <th>Visitor3</th>\n      <td>Purple</td>\n      <td>Mariniere</td>\n      <td>Surprised</td>\n      <td>Lime</td>\n      <td>Aviators</td>\n      <td>Bucket Hat</td>\n      <td>Face Mask</td>\n      <td>NaN</td>\n      <td>NaN</td>\n      <td>War Paint</td>\n      <td>Not for sale</td>\n      <td>NaN</td>\n    </tr>\n    <tr>\n      <th>Visitor4</th>\n      <td>Green</td>\n      <td>NaN</td>\n      <td>Surprised</td>\n      <td>Navy</td>\n      <td>Round Glasses</td>\n      <td>Bolero</td>\n      <td>Gagged</td>\n      <td>NaN</td>\n      <td>Gold Brow Stud</td>\n      <td>Blue</td>\n      <td>Not for sale</td>\n      <td>NaN</td>\n    </tr>\n    <tr>\n      <th>Visitor5</th>\n      <td>Red</td>\n      <td>Hoodie Down</td>\n      <td>Confident</td>\n      <td>Stoned</td>\n      <td>Round Glasses</td>\n      <td>Barbarian</td>\n      <td>Pipe</td>\n      <td>NaN</td>\n      <td>Silver Brow Stud</td>\n      <td>Blue</td>\n      <td>Not for sale</td>\n      <td>NaN</td>\n    </tr>\n    <tr>\n      <th>...</th>\n      <td>...</td>\n      <td>...</td>\n      <td>...</td>\n      <td>...</td>\n      <td>...</td>\n      <td>...</td>\n      <td>...</td>\n      <td>...</td>\n      <td>...</td>\n      <td>...</td>\n      <td>...</td>\n      <td>...</td>\n    </tr>\n    <tr>\n      <th>Visitor9995</th>\n      <td>Green</td>\n      <td>Suit</td>\n      <td>Surprised</td>\n      <td>White</td>\n      <td>Skelly</td>\n      <td>Do Rag</td>\n      <td>Fangs</td>\n      <td>NaN</td>\n      <td>Clown</td>\n      <td>Green</td>\n      <td>Buy</td>\n      <td>10.000</td>\n    </tr>\n    <tr>\n      <th>Visitor9996</th>\n      <td>Purple</td>\n      <td>Hoodie With Jacket</td>\n      <td>Surprised</td>\n      <td>Lime</td>\n      <td>NaN</td>\n      <td>Top Hat</td>\n      <td>NaN</td>\n      <td>NaN</td>\n      <td>Silver Brow Stud</td>\n      <td>Cyberpunk</td>\n      <td>Buy</td>\n      <td>1.000</td>\n    </tr>\n    <tr>\n      <th>Visitor9997</th>\n      <td>Purple</td>\n      <td>Suit</td>\n      <td>Tired</td>\n      <td>Navy</td>\n      <td>Monocle</td>\n      <td>Floppy Hat</td>\n      <td>Gagged</td>\n      <td>NaN</td>\n      <td>Silver Brow Stud</td>\n      <td>Trippy</td>\n      <td>Not for sale</td>\n      <td>NaN</td>\n    </tr>\n    <tr>\n      <th>Visitor9998</th>\n      <td>Green</td>\n      <td>Hoodie Up</td>\n      <td>Confident</td>\n      <td>Lime</td>\n      <td>NaN</td>\n      <td>NaN</td>\n      <td>Bandit Mask</td>\n      <td>NaN</td>\n      <td>NaN</td>\n      <td>War Paint</td>\n      <td>Not for sale</td>\n      <td>NaN</td>\n    </tr>\n    <tr>\n      <th>Visitor9999</th>\n      <td>Purple</td>\n      <td>Bulletproof Vest</td>\n      <td>Surprised</td>\n      <td>Navy</td>\n      <td>Aviators</td>\n      <td>Headphones</td>\n      <td>Bubble Gum</td>\n      <td>Spiked Collar</td>\n      <td>Silver Lip Ring</td>\n      <td>Green</td>\n      <td>Buy</td>\n      <td>9.999</td>\n    </tr>\n  </tbody>\n</table>\n<p>9999 rows × 12 columns</p>\n</div>",
      "text/plain": "            Background            Clothing  Expression     Eyes  \\\nName                                                              \nVisitor1          Pink                 NaN  Delusional  Visitor   \nVisitor2          Pink       Black T-shirt   Surprised    Twirl   \nVisitor3        Purple           Mariniere   Surprised     Lime   \nVisitor4         Green                 NaN   Surprised     Navy   \nVisitor5           Red         Hoodie Down   Confident   Stoned   \n...                ...                 ...         ...      ...   \nVisitor9995      Green                Suit   Surprised    White   \nVisitor9996     Purple  Hoodie With Jacket   Surprised     Lime   \nVisitor9997     Purple                Suit       Tired     Navy   \nVisitor9998      Green           Hoodie Up   Confident     Lime   \nVisitor9999     Purple    Bulletproof Vest   Surprised     Navy   \n\n                   Eyewear        Head        Mouth           Neck  \\\nName                                                                 \nVisitor1               NaN   Barbarian    Face Mask  Gold Necklace   \nVisitor2          Eyepatch         NaN          NaN            NaN   \nVisitor3          Aviators  Bucket Hat    Face Mask            NaN   \nVisitor4     Round Glasses      Bolero       Gagged            NaN   \nVisitor5     Round Glasses   Barbarian         Pipe            NaN   \n...                    ...         ...          ...            ...   \nVisitor9995         Skelly      Do Rag        Fangs            NaN   \nVisitor9996            NaN     Top Hat          NaN            NaN   \nVisitor9997        Monocle  Floppy Hat       Gagged            NaN   \nVisitor9998            NaN         NaN  Bandit Mask            NaN   \nVisitor9999       Aviators  Headphones   Bubble Gum  Spiked Collar   \n\n                         Nose       Skin          Type   Price  \nName                                                            \nVisitor1                  NaN      Green  Not for sale     NaN  \nVisitor2                  NaN       Blue           Buy   5.000  \nVisitor3                  NaN  War Paint  Not for sale     NaN  \nVisitor4       Gold Brow Stud       Blue  Not for sale     NaN  \nVisitor5     Silver Brow Stud       Blue  Not for sale     NaN  \n...                       ...        ...           ...     ...  \nVisitor9995             Clown      Green           Buy  10.000  \nVisitor9996  Silver Brow Stud  Cyberpunk           Buy   1.000  \nVisitor9997  Silver Brow Stud     Trippy  Not for sale     NaN  \nVisitor9998               NaN  War Paint  Not for sale     NaN  \nVisitor9999   Silver Lip Ring      Green           Buy   9.999  \n\n[9999 rows x 12 columns]"
     },
     "execution_count": 39,
     "metadata": {},
     "output_type": "execute_result"
    }
   ],
   "source": [
    "visitorji"
   ]
  },
  {
   "cell_type": "code",
   "execution_count": 40,
   "metadata": {},
   "outputs": [],
   "source": [
    "lastnosti = visitorji.columns\r\n"
   ]
  },
  {
   "cell_type": "markdown",
   "metadata": {},
   "source": [
    "### Analiza"
   ]
  },
  {
   "cell_type": "markdown",
   "metadata": {},
   "source": [
    "Ugotvljanje pogostosti lastnosti"
   ]
  },
  {
   "cell_type": "code",
   "execution_count": 41,
   "metadata": {},
   "outputs": [],
   "source": [
    "for lastnost in lastnosti:\r\n",
    "    vars()[lastnost] = round(visitorji[lastnost].value_counts()/9999*100, 2)\r\n"
   ]
  },
  {
   "cell_type": "markdown",
   "metadata": {},
   "source": [
    "Za prikaz pogostosti lastnosti spodaj izberite ustrezno kategorijo"
   ]
  },
  {
   "cell_type": "code",
   "execution_count": 42,
   "metadata": {},
   "outputs": [
    {
     "data": {
      "text/plain": "Headphones                4.10\nBolero                    3.93\nSkullcap                  3.92\nBarbarian                 3.88\nBackwards Cap             3.87\nBeanie                    3.86\nFlak Helmet               3.66\nUshanka                   3.47\nBucket Hat                3.16\nHalo                      3.05\nAntennae                  3.03\nMortarboard               2.99\nFloppy Hat                2.99\nEthereum                  2.94\nBalaclava                 2.88\nCoolie Hat                2.86\nDo Rag                    2.84\nPolice                    2.79\nPolice Helmet             2.75\nChef's Hat                2.50\nHorns                     1.97\nBubble                    1.95\nDevo                      1.85\nTop Hat                   1.80\nViking                    1.78\nPunk Spikes               0.98\nVOID Meditation Device    0.97\nSpartan                   0.95\nCrown                     0.93\nPeacemaker                0.92\nAlien VR                  0.15\nName: Head, dtype: float64"
     },
     "execution_count": 42,
     "metadata": {},
     "output_type": "execute_result"
    }
   ],
   "source": [
    "Head"
   ]
  },
  {
   "cell_type": "markdown",
   "metadata": {},
   "source": [
    "Na spodnjem grafu lahko vidimo, da večina Visitorjev ni na prodaj. Pri naši analizi pa bomo v glavnem uporabljali presotali delež."
   ]
  },
  {
   "cell_type": "code",
   "execution_count": 43,
   "metadata": {},
   "outputs": [
    {
     "data": {
      "text/plain": "<AxesSubplot:ylabel='Type'>"
     },
     "execution_count": 43,
     "metadata": {},
     "output_type": "execute_result"
    },
    {
     "data": {
      "image/png": "[encoded data removed]",
      "text/plain": "<Figure size 432x288 with 1 Axes>"
     },
     "metadata": {},
     "output_type": "display_data"
    }
   ],
   "source": [
    "prikaz_tipa = Type[Type>1]\r\n",
    "prikaz_tipa['Rest'] = Type[Type <= 1].sum()\r\n",
    "\r\n",
    "prikaz_tipa.plot.pie(autopct = \"%.2f%%\", colors = ['red', 'pink', 'green'])\r\n",
    "\r\n"
   ]
  },
  {
   "cell_type": "markdown",
   "metadata": {},
   "source": [
    "najredkejše lastnosti buy, in bid in not for sale"
   ]
  },
  {
   "cell_type": "code",
   "execution_count": 44,
   "metadata": {},
   "outputs": [
    {
     "data": {
      "text/plain": "<AxesSubplot:xlabel='Background', ylabel='Price'>"
     },
     "execution_count": 44,
     "metadata": {},
     "output_type": "execute_result"
    },
    {
     "data": {
      "image/png": "[encoded data removed]",
      "text/plain": "<Figure size 432x288 with 1 Axes>"
     },
     "metadata": {
      "needs_background": "light"
     },
     "output_type": "display_data"
    }
   ],
   "source": [
    "a = visitorji.loc[visitorji['Type'] == 'Buy']\r\n",
    "a.plot.scatter('Background', 'Price', alpha=0.1, color = 'red')\r\n",
    "\r\n"
   ]
  }
 ],
 "metadata": {
  "language_info": {},
  "orig_nbformat": 3
 },
 "nbformat": 4,
 "nbformat_minor": 2
}