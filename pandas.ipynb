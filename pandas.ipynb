{
 "cells": [
  {
   "cell_type": "markdown",
   "metadata": {},
   "source": [
    "# Analiza Visitorjev"
   ]
  },
  {
   "cell_type": "code",
   "execution_count": 1,
   "metadata": {},
   "outputs": [],
   "source": [
    "import pandas as pd\n",
    "import os.path\n",
    "import re\n",
    "import numpy as np\n",
    "import math\n",
    "import matplotlib.pyplot as plt\n",
    "import seaborn as sns\n",
    "import ipywidgets as widgets\n",
    "from matplotlib.colors import Normalize\n",
    "from matplotlib.ticker import MaxNLocator\n",
    "from matplotlib.colors import LogNorm\n",
    "\n",
    "\n",
    "# pd.options.display.max_rows = 10\n",
    "#%matplotlib notebook\n",
    "%matplotlib inline\n",
    "\n",
    "# naložimo razpredelnico, s katero bomo delali\n",
    "pot_do_Visitorjev = os.path.join(\"immadegen.csv\")\n",
    "visitorji = pd.read_csv(pot_do_Visitorjev)\n",
    "visitorji = visitorji.set_index('Name')"
   ]
  },
  {
   "cell_type": "markdown",
   "metadata": {},
   "source": [
    "## Obdelava podatkov"
   ]
  },
  {
   "cell_type": "code",
   "execution_count": 2,
   "metadata": {},
   "outputs": [
    {
     "data": {
      "text/html": [
       "<div>\n",
       "<style scoped>\n",
       "    .dataframe tbody tr th:only-of-type {\n",
       "        vertical-align: middle;\n",
       "    }\n",
       "\n",
       "    .dataframe tbody tr th {\n",
       "        vertical-align: top;\n",
       "    }\n",
       "\n",
       "    .dataframe thead th {\n",
       "        text-align: right;\n",
       "    }\n",
       "</style>\n",
       "<table border=\"1\" class=\"dataframe\">\n",
       "  <thead>\n",
       "    <tr style=\"text-align: right;\">\n",
       "      <th></th>\n",
       "      <th>Background</th>\n",
       "      <th>Clothing</th>\n",
       "      <th>Expression</th>\n",
       "      <th>Eyes</th>\n",
       "      <th>Eyewear</th>\n",
       "      <th>Head</th>\n",
       "      <th>Mouth</th>\n",
       "      <th>Neck</th>\n",
       "      <th>Nose</th>\n",
       "      <th>Skin</th>\n",
       "      <th>Type</th>\n",
       "      <th>Price</th>\n",
       "    </tr>\n",
       "    <tr>\n",
       "      <th>Name</th>\n",
       "      <th></th>\n",
       "      <th></th>\n",
       "      <th></th>\n",
       "      <th></th>\n",
       "      <th></th>\n",
       "      <th></th>\n",
       "      <th></th>\n",
       "      <th></th>\n",
       "      <th></th>\n",
       "      <th></th>\n",
       "      <th></th>\n",
       "      <th></th>\n",
       "    </tr>\n",
       "  </thead>\n",
       "  <tbody>\n",
       "    <tr>\n",
       "      <th>Visitor1</th>\n",
       "      <td>Pink</td>\n",
       "      <td>NaN</td>\n",
       "      <td>Delusional</td>\n",
       "      <td>Visitor</td>\n",
       "      <td>NaN</td>\n",
       "      <td>Barbarian</td>\n",
       "      <td>Face Mask</td>\n",
       "      <td>Gold Necklace</td>\n",
       "      <td>NaN</td>\n",
       "      <td>Green</td>\n",
       "      <td>Not for sale</td>\n",
       "      <td>NaN</td>\n",
       "    </tr>\n",
       "    <tr>\n",
       "      <th>Visitor2</th>\n",
       "      <td>Pink</td>\n",
       "      <td>Black T-shirt</td>\n",
       "      <td>Surprised</td>\n",
       "      <td>Twirl</td>\n",
       "      <td>Eyepatch</td>\n",
       "      <td>NaN</td>\n",
       "      <td>NaN</td>\n",
       "      <td>NaN</td>\n",
       "      <td>NaN</td>\n",
       "      <td>Blue</td>\n",
       "      <td>Buy</td>\n",
       "      <td>5.000</td>\n",
       "    </tr>\n",
       "    <tr>\n",
       "      <th>Visitor3</th>\n",
       "      <td>Purple</td>\n",
       "      <td>Mariniere</td>\n",
       "      <td>Surprised</td>\n",
       "      <td>Lime</td>\n",
       "      <td>Aviators</td>\n",
       "      <td>Bucket Hat</td>\n",
       "      <td>Face Mask</td>\n",
       "      <td>NaN</td>\n",
       "      <td>NaN</td>\n",
       "      <td>War Paint</td>\n",
       "      <td>Not for sale</td>\n",
       "      <td>NaN</td>\n",
       "    </tr>\n",
       "    <tr>\n",
       "      <th>Visitor4</th>\n",
       "      <td>Green</td>\n",
       "      <td>NaN</td>\n",
       "      <td>Surprised</td>\n",
       "      <td>Navy</td>\n",
       "      <td>Round Glasses</td>\n",
       "      <td>Bolero</td>\n",
       "      <td>Gagged</td>\n",
       "      <td>NaN</td>\n",
       "      <td>Gold Brow Stud</td>\n",
       "      <td>Blue</td>\n",
       "      <td>Not for sale</td>\n",
       "      <td>NaN</td>\n",
       "    </tr>\n",
       "    <tr>\n",
       "      <th>Visitor5</th>\n",
       "      <td>Red</td>\n",
       "      <td>Hoodie Down</td>\n",
       "      <td>Confident</td>\n",
       "      <td>Stoned</td>\n",
       "      <td>Round Glasses</td>\n",
       "      <td>Barbarian</td>\n",
       "      <td>Pipe</td>\n",
       "      <td>NaN</td>\n",
       "      <td>Silver Brow Stud</td>\n",
       "      <td>Blue</td>\n",
       "      <td>Not for sale</td>\n",
       "      <td>NaN</td>\n",
       "    </tr>\n",
       "    <tr>\n",
       "      <th>...</th>\n",
       "      <td>...</td>\n",
       "      <td>...</td>\n",
       "      <td>...</td>\n",
       "      <td>...</td>\n",
       "      <td>...</td>\n",
       "      <td>...</td>\n",
       "      <td>...</td>\n",
       "      <td>...</td>\n",
       "      <td>...</td>\n",
       "      <td>...</td>\n",
       "      <td>...</td>\n",
       "      <td>...</td>\n",
       "    </tr>\n",
       "    <tr>\n",
       "      <th>Visitor9995</th>\n",
       "      <td>Green</td>\n",
       "      <td>Suit</td>\n",
       "      <td>Surprised</td>\n",
       "      <td>White</td>\n",
       "      <td>Skelly</td>\n",
       "      <td>Do Rag</td>\n",
       "      <td>Fangs</td>\n",
       "      <td>NaN</td>\n",
       "      <td>Clown</td>\n",
       "      <td>Green</td>\n",
       "      <td>Buy</td>\n",
       "      <td>10.000</td>\n",
       "    </tr>\n",
       "    <tr>\n",
       "      <th>Visitor9996</th>\n",
       "      <td>Purple</td>\n",
       "      <td>Hoodie With Jacket</td>\n",
       "      <td>Surprised</td>\n",
       "      <td>Lime</td>\n",
       "      <td>NaN</td>\n",
       "      <td>Top Hat</td>\n",
       "      <td>NaN</td>\n",
       "      <td>NaN</td>\n",
       "      <td>Silver Brow Stud</td>\n",
       "      <td>Cyberpunk</td>\n",
       "      <td>Buy</td>\n",
       "      <td>1.000</td>\n",
       "    </tr>\n",
       "    <tr>\n",
       "      <th>Visitor9997</th>\n",
       "      <td>Purple</td>\n",
       "      <td>Suit</td>\n",
       "      <td>Tired</td>\n",
       "      <td>Navy</td>\n",
       "      <td>Monocle</td>\n",
       "      <td>Floppy Hat</td>\n",
       "      <td>Gagged</td>\n",
       "      <td>NaN</td>\n",
       "      <td>Silver Brow Stud</td>\n",
       "      <td>Trippy</td>\n",
       "      <td>Not for sale</td>\n",
       "      <td>NaN</td>\n",
       "    </tr>\n",
       "    <tr>\n",
       "      <th>Visitor9998</th>\n",
       "      <td>Green</td>\n",
       "      <td>Hoodie Up</td>\n",
       "      <td>Confident</td>\n",
       "      <td>Lime</td>\n",
       "      <td>NaN</td>\n",
       "      <td>NaN</td>\n",
       "      <td>Bandit Mask</td>\n",
       "      <td>NaN</td>\n",
       "      <td>NaN</td>\n",
       "      <td>War Paint</td>\n",
       "      <td>Not for sale</td>\n",
       "      <td>NaN</td>\n",
       "    </tr>\n",
       "    <tr>\n",
       "      <th>Visitor9999</th>\n",
       "      <td>Purple</td>\n",
       "      <td>Bulletproof Vest</td>\n",
       "      <td>Surprised</td>\n",
       "      <td>Navy</td>\n",
       "      <td>Aviators</td>\n",
       "      <td>Headphones</td>\n",
       "      <td>Bubble Gum</td>\n",
       "      <td>Spiked Collar</td>\n",
       "      <td>Silver Lip Ring</td>\n",
       "      <td>Green</td>\n",
       "      <td>Buy</td>\n",
       "      <td>9.999</td>\n",
       "    </tr>\n",
       "  </tbody>\n",
       "</table>\n",
       "<p>9999 rows × 12 columns</p>\n",
       "</div>"
      ],
      "text/plain": [
       "            Background            Clothing  Expression     Eyes  \\\n",
       "Name                                                              \n",
       "Visitor1          Pink                 NaN  Delusional  Visitor   \n",
       "Visitor2          Pink       Black T-shirt   Surprised    Twirl   \n",
       "Visitor3        Purple           Mariniere   Surprised     Lime   \n",
       "Visitor4         Green                 NaN   Surprised     Navy   \n",
       "Visitor5           Red         Hoodie Down   Confident   Stoned   \n",
       "...                ...                 ...         ...      ...   \n",
       "Visitor9995      Green                Suit   Surprised    White   \n",
       "Visitor9996     Purple  Hoodie With Jacket   Surprised     Lime   \n",
       "Visitor9997     Purple                Suit       Tired     Navy   \n",
       "Visitor9998      Green           Hoodie Up   Confident     Lime   \n",
       "Visitor9999     Purple    Bulletproof Vest   Surprised     Navy   \n",
       "\n",
       "                   Eyewear        Head        Mouth           Neck  \\\n",
       "Name                                                                 \n",
       "Visitor1               NaN   Barbarian    Face Mask  Gold Necklace   \n",
       "Visitor2          Eyepatch         NaN          NaN            NaN   \n",
       "Visitor3          Aviators  Bucket Hat    Face Mask            NaN   \n",
       "Visitor4     Round Glasses      Bolero       Gagged            NaN   \n",
       "Visitor5     Round Glasses   Barbarian         Pipe            NaN   \n",
       "...                    ...         ...          ...            ...   \n",
       "Visitor9995         Skelly      Do Rag        Fangs            NaN   \n",
       "Visitor9996            NaN     Top Hat          NaN            NaN   \n",
       "Visitor9997        Monocle  Floppy Hat       Gagged            NaN   \n",
       "Visitor9998            NaN         NaN  Bandit Mask            NaN   \n",
       "Visitor9999       Aviators  Headphones   Bubble Gum  Spiked Collar   \n",
       "\n",
       "                         Nose       Skin          Type   Price  \n",
       "Name                                                            \n",
       "Visitor1                  NaN      Green  Not for sale     NaN  \n",
       "Visitor2                  NaN       Blue           Buy   5.000  \n",
       "Visitor3                  NaN  War Paint  Not for sale     NaN  \n",
       "Visitor4       Gold Brow Stud       Blue  Not for sale     NaN  \n",
       "Visitor5     Silver Brow Stud       Blue  Not for sale     NaN  \n",
       "...                       ...        ...           ...     ...  \n",
       "Visitor9995             Clown      Green           Buy  10.000  \n",
       "Visitor9996  Silver Brow Stud  Cyberpunk           Buy   1.000  \n",
       "Visitor9997  Silver Brow Stud     Trippy  Not for sale     NaN  \n",
       "Visitor9998               NaN  War Paint  Not for sale     NaN  \n",
       "Visitor9999   Silver Lip Ring      Green           Buy   9.999  \n",
       "\n",
       "[9999 rows x 12 columns]"
      ]
     },
     "execution_count": 2,
     "metadata": {},
     "output_type": "execute_result"
    }
   ],
   "source": [
    "visitorji"
   ]
  },
  {
   "cell_type": "markdown",
   "metadata": {},
   "source": [
    "## Analiza"
   ]
  },
  {
   "cell_type": "markdown",
   "metadata": {},
   "source": [
    "Ugotvljanje pogostosti lastnosti"
   ]
  },
  {
   "cell_type": "code",
   "execution_count": 3,
   "metadata": {},
   "outputs": [],
   "source": [
    "lastnosti = visitorji.columns[0:11]"
   ]
  },
  {
   "cell_type": "code",
   "execution_count": 4,
   "metadata": {},
   "outputs": [],
   "source": [
    "for lastnost in lastnosti:\n",
    "    vars()[lastnost] = round(visitorji[lastnost].value_counts()/9999*100, 2)\n",
    "\n",
    "\n",
    "def redkost(Dataset):\n",
    "    return pd.DataFrame(round(visitorji[Dataset].value_counts()/9999*100, 2))\n"
   ]
  },
  {
   "cell_type": "code",
   "execution_count": 6,
   "metadata": {},
   "outputs": [
    {
     "data": {
      "application/vnd.jupyter.widget-view+json": {
       "model_id": "a8cdb55c222c42aa82825d0013dba405",
       "version_major": 2,
       "version_minor": 0
      },
      "text/plain": [
       "interactive(children=(ToggleButtons(description='Lastnost:', options=('Background', 'Clothing', 'Expression', …"
      ]
     },
     "metadata": {},
     "output_type": "display_data"
    },
    {
     "data": {
      "text/plain": [
       "<function __main__.redkost(Dataset)>"
      ]
     },
     "execution_count": 6,
     "metadata": {},
     "output_type": "execute_result"
    }
   ],
   "source": [
    "widgets.interact(redkost, Dataset = widgets.ToggleButtons(\n",
    "    options=lastnosti,\n",
    "    description='Lastnost:',\n",
    "    disabled=False, \n",
    "    #button_style='', # 'success', 'info', 'warning', 'danger' or ''\n",
    "    tooltips=['Description of slow', 'Description of regular', 'Description of fast']))"
   ]
  },
  {
   "cell_type": "markdown",
   "metadata": {},
   "source": [
    "Na spodnjem grafu lahko vidimo, da večina Visitorjev ni na prodaj. Pri naši analizi pa bomo v glavnem uporabljali presotali delež."
   ]
  },
  {
   "cell_type": "code",
   "execution_count": 7,
   "metadata": {},
   "outputs": [
    {
     "data": {
      "text/plain": [
       "<AxesSubplot:ylabel='Type'>"
      ]
     },
     "execution_count": 7,
     "metadata": {},
     "output_type": "execute_result"
    },
    {
     "data": {
      "image/png": "[encoded data removed]",
      "text/plain": [
       "<Figure size 432x288 with 1 Axes>"
      ]
     },
     "metadata": {},
     "output_type": "display_data"
    }
   ],
   "source": [
    "prikaz_tipa = Type[Type>1]\n",
    "prikaz_tipa['Rest'] = Type[Type <= 1].sum()\n",
    "\n",
    "prikaz_tipa.plot.pie(autopct = \"%.2f%%\", colors = ['aqua', 'fuchsia', 'lime'])"
   ]
  },
  {
   "cell_type": "markdown",
   "metadata": {},
   "source": [
    "##### Ugotavljanje pomembnosti ozadja"
   ]
  },
  {
   "cell_type": "code",
   "execution_count": 8,
   "metadata": {},
   "outputs": [],
   "source": [
    "buy = visitorji.loc[visitorji['Type'] == 'Buy']\n",
    "top_bid = visitorji.loc[visitorji['Type'] == 'Top bid']\n",
    "min_bid = visitorji.loc[visitorji['Type'] == 'Min bid']"
   ]
  },
  {
   "cell_type": "code",
   "execution_count": 9,
   "metadata": {},
   "outputs": [],
   "source": [
    "def g(Lastnost):\n",
    "    buy_min = buy['Price'].min()\n",
    "    top_bid_min = top_bid['Price'].min()\n",
    "    min_bid_min = min_bid['Price'].min()\n",
    "    \n",
    "    df1 = buy.loc[visitorji['Price'] < 10*buy_min][['Price', Lastnost]]\n",
    "    df2 = top_bid.loc[visitorji['Price'] < 10*top_bid_min][['Price', Lastnost]]\n",
    "    df3 = top_bid.loc[visitorji['Price'] < 10*top_bid_min][['Price', Lastnost]]\n",
    "    \n",
    "    df1 = df1.where(pd.notnull(df1), 'Without')\n",
    "    df2 = df2.where(pd.notnull(df2), 'Without')\n",
    "    df3 = df3.where(pd.notnull(df3), 'Without')\n",
    "\n",
    "    fig, (ax1, ax2, ax3) = plt.subplots(1,3, figsize=(12,4)) \n",
    "    df1.plot.scatter('Price', Lastnost, alpha=0.3, color = 'aqua', ax=ax1, label = 'Buy')\n",
    "    df2.plot.scatter('Price', Lastnost, alpha=0.3, color = 'lime', ax=ax2, label = 'Top bid')\n",
    "    df3.plot.scatter('Price', Lastnost, alpha=0.3, color = 'fuchsia', ax=ax3, label = 'Min bid')\n",
    "    plt.tight_layout()\n"
   ]
  },
  {
   "cell_type": "code",
   "execution_count": 11,
   "metadata": {},
   "outputs": [
    {
     "data": {
      "application/vnd.jupyter.widget-view+json": {
       "model_id": "c1399a63a489437ca9bdc8cd644c3dc9",
       "version_major": 2,
       "version_minor": 0
      },
      "text/plain": [
       "interactive(children=(Dropdown(description='Lastnost', options=('Background', 'Clothing', 'Expression', 'Eyes'…"
      ]
     },
     "metadata": {},
     "output_type": "display_data"
    },
    {
     "data": {
      "text/plain": [
       "<function __main__.g(Lastnost)>"
      ]
     },
     "execution_count": 11,
     "metadata": {},
     "output_type": "execute_result"
    }
   ],
   "source": [
    "widgets.interact(g, Lastnost=lastnosti[0:10])"
   ]
  },
  {
   "cell_type": "markdown",
   "metadata": {},
   "source": [
    "Ker NFTji niso dolgo na trgu, v zgornjih grafih ni smiselno primerjati cen pri različnih vrstah prodaj, temveč katera barva izstopa na posameznem grafu. Na prvem grafu lahko vidimo, da vse barve ozadij razen vesoljskega približno enako doprinesejo k vrednosti. To je tudi smiselno, saj je vesoljsko ozadje najredkejše. Zanimivo je, da se na Min bid za rdeče in vijolično ozadje zahteva več od ostalih, kar pa je lahko posledica majhnega vzorca."
   ]
  },
  {
   "cell_type": "code",
   "execution_count": 21,
   "metadata": {},
   "outputs": [],
   "source": [
    "def m(x, y):\n",
    "    # naredimo tabelo primerno za heatmap\n",
    "    a = visitorji[x].dropna().unique()\n",
    "    b = visitorji[y].dropna().unique()\n",
    "\n",
    "    df_cena = pd.DataFrame(a, columns = [x])\n",
    "    df_kolicina = pd.DataFrame(a, columns = [x])\n",
    "    #poiscimo najnizjo ceno in stevilo ujemanj\n",
    "\n",
    "    for us in b: \n",
    "        stolpec_cena = []\n",
    "        stolpec_kolicina = []\n",
    "        for ko in a:\n",
    "            stolpec_kolicina.append(len(buy.loc[(buy[x] == ko) & (buy[y] == us)].index))\n",
    "            stolpec_cena.append(buy.loc[(buy[x] == ko) & (buy[y] == us)]['Price'].min())\n",
    "        df_kolicina.insert(1, us, stolpec_kolicina, True)\n",
    "        df_cena.insert(1, us, stolpec_cena, True)\n",
    "\n",
    "    df_kolicina = df_kolicina.set_index(x)\n",
    "    df_cena = df_cena.set_index(x)\n",
    "\n",
    "\n",
    "    fig, (ax1, ax2) = plt.subplots(1,2, figsize=(12,4)) \n",
    "    # narisemo prvi graf\n",
    "        # poiscemo meje\n",
    "    ma1 = df_cena.max().max()\n",
    "    mi1 = df_cena.min().min()\n",
    "    \n",
    "    ax = sns.heatmap(df_cena, cmap = 'cool', ax = ax1, norm = LogNorm(mi1,  ma1)) \n",
    "    ax.tick_params(axis='both', which='both', length=0)\n",
    "    ax.set_title('Cena posameznih kombinacij')\n",
    "    \n",
    "    # nastavitve za legendo\n",
    "\n",
    "    '''\n",
    "    cbar = ax.collections[0].colorbar\n",
    "    cbar.ax.tick_params(labelsize=9, axis='both', which='both', length=0)\n",
    "    #cbar.set_ticks(np.linspace(0, m1, 10))'''\n",
    "\n",
    "    # narisemo drugi graf\n",
    "    ax = sns.heatmap(df_kolicina, cmap = 'cool', ax = ax2)\n",
    "    ax.tick_params(axis = 'both', which = 'both', length = 0)\n",
    "    ax.set_title('Število NFTjev s posamezno kombinacijo lastnosti')\n",
    "\n",
    "    # nastavitve za legendo\n",
    "    # poiscemo meje\n",
    "    m2 = df_kolicina.max().max()\n",
    "    n2 = math.ceil(m2/4)\n",
    "\n",
    "\n",
    "    cbar = ax.collections[0].colorbar\n",
    "    cbar.ax.tick_params(labelsize = 9, axis = 'both', which = 'both', length = 0)\n",
    "    cbar.set_ticks(np.linspace(0, m2, 10))\n",
    "\n",
    "    plt.tight_layout()\n"
   ]
  },
  {
   "cell_type": "code",
   "execution_count": 22,
   "metadata": {},
   "outputs": [
    {
     "data": {
      "application/vnd.jupyter.widget-view+json": {
       "model_id": "50dc11c6f5fd49dc8ae538443859b1bf",
       "version_major": 2,
       "version_minor": 0
      },
      "text/plain": [
       "interactive(children=(Select(description='x', options=('Background', 'Clothing', 'Expression', 'Eyes', 'Eyewea…"
      ]
     },
     "metadata": {},
     "output_type": "display_data"
    },
    {
     "data": {
      "text/plain": [
       "<function __main__.m(x, y)>"
      ]
     },
     "execution_count": 22,
     "metadata": {},
     "output_type": "execute_result"
    }
   ],
   "source": [
    "x_select =  widgets.Select(options=lastnosti[0:10])\n",
    "y_select =  widgets.Select(options=lastnosti[0:10])\n",
    "widgets.interact(m,y=y_select,x=x_select)"
   ]
  },
  {
   "cell_type": "code",
   "execution_count": null,
   "metadata": {},
   "outputs": [],
   "source": [
    "# razmerje cena, kolicina"
   ]
  },
  {
   "cell_type": "markdown",
   "metadata": {},
   "source": [
    "LEvo: kar je belo ni na trgu, "
   ]
  },
  {
   "cell_type": "markdown",
   "metadata": {},
   "source": [
    "### Ogled NFTjev, ki niso na prodaj"
   ]
  },
  {
   "cell_type": "markdown",
   "metadata": {},
   "source": [
    "V tem delu analize bom poskusila najti kakšno lastnost, ki jo lastniki ne želijo prodati, temveč želijo tak NFT obdržati zase."
   ]
  },
  {
   "cell_type": "code",
   "execution_count": 14,
   "metadata": {},
   "outputs": [],
   "source": [
    "niso_na_prodaj = visitorji.loc[visitorji['Type'] == 'Not for sale']"
   ]
  },
  {
   "cell_type": "code",
   "execution_count": 15,
   "metadata": {},
   "outputs": [],
   "source": [
    "def f(Lastnost):\n",
    "    \n",
    "    # zberemo potrebne podatke\n",
    "    a = niso_na_prodaj.groupby(Lastnost).size()\n",
    "    b = visitorji.groupby(Lastnost).size()\n",
    "    s = pd.DataFrame(a)\n",
    "    s.insert(1, '1', b, True)\n",
    "    \n",
    "    # poiscimo razmerja\n",
    "    razmerja = []\n",
    "    for i in range(len(s.index)):\n",
    "        razmerja.append(round(s.iloc[ i , 0]/s.iloc[ i , 1], 2))\n",
    "    k = pd.DataFrame(razmerja, columns = ['Razmerje'], index = s.index)\n",
    "    \n",
    "    # narisemo graf\n",
    "    s.plot(kind='bar', y = [0, '1'], title = 'Številov Visitorjev z določenimi lastnostmi: ' + Lastnost, \n",
    "           color = ['lime', 'fuchsia'])\n",
    "    plt.legend([\"Not for sale\", \"All\"])\n",
    "    \n",
    "\n",
    "    \n",
    "    return k['Razmerje'].sort_values()\n",
    "    "
   ]
  },
  {
   "cell_type": "code",
   "execution_count": 16,
   "metadata": {},
   "outputs": [
    {
     "data": {
      "application/vnd.jupyter.widget-view+json": {
       "model_id": "9df7a317a9954751a4aa6d661fe31cad",
       "version_major": 2,
       "version_minor": 0
      },
      "text/plain": [
       "interactive(children=(Dropdown(description='Lastnost', options=('Background', 'Clothing', 'Expression', 'Eyes'…"
      ]
     },
     "metadata": {},
     "output_type": "display_data"
    },
    {
     "data": {
      "text/plain": [
       "<function __main__.f(Lastnost)>"
      ]
     },
     "execution_count": 16,
     "metadata": {},
     "output_type": "execute_result"
    }
   ],
   "source": [
    "widgets.interact(f, Lastnost=lastnosti[0:10])"
   ]
  },
  {
   "cell_type": "code",
   "execution_count": null,
   "metadata": {},
   "outputs": [],
   "source": []
  }
 ],
 "metadata": {
  "kernelspec": {
   "display_name": "Python 3",
   "language": "python",
   "name": "python3"
  },
  "language_info": {
   "codemirror_mode": {
    "name": "ipython",
    "version": 3
   },
   "file_extension": ".py",
   "mimetype": "text/x-python",
   "name": "python",
   "nbconvert_exporter": "python",
   "pygments_lexer": "ipython3",
   "version": "3.7.3"
  }
 },
 "nbformat": 4,
 "nbformat_minor": 2
}
